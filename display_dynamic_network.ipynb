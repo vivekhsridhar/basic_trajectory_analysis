{
 "cells": [
  {
   "cell_type": "code",
   "execution_count": 13,
   "metadata": {
    "collapsed": false,
    "deletable": true,
    "editable": true
   },
   "outputs": [],
   "source": [
    "import numpy as np\n",
    "import pandas as pd\n",
    "import os\n",
    "import seaborn as sns\n",
    "import h5py\n",
    "import matplotlib.axes as axs\n",
    "import matplotlib.pyplot as plt\n",
    "from sklearn.metrics.pairwise import pairwise_distances"
   ]
  },
  {
   "cell_type": "code",
   "execution_count": 2,
   "metadata": {
    "collapsed": true,
    "deletable": true,
    "editable": true
   },
   "outputs": [],
   "source": [
    "def is_non_zero_file(fpath):  \n",
    "    return True if os.path.isfile(fpath) and os.path.getsize(fpath) > 0 else False"
   ]
  },
  {
   "cell_type": "code",
   "execution_count": 3,
   "metadata": {
    "collapsed": true,
    "deletable": true,
    "editable": true
   },
   "outputs": [],
   "source": [
    "name = 'day1_fish19-barcodejoined'\n",
    "f = h5py.File('/Users/viveksridhar/Dropbox/Network analysis of fish schools/fish_data/matched_tracks/' + name + '.h5', \"r\")"
   ]
  },
  {
   "cell_type": "code",
   "execution_count": 4,
   "metadata": {
    "collapsed": true,
    "deletable": true,
    "editable": true
   },
   "outputs": [],
   "source": [
    "group = f['fields/']"
   ]
  },
  {
   "cell_type": "code",
   "execution_count": 5,
   "metadata": {
    "collapsed": true,
    "deletable": true,
    "editable": true
   },
   "outputs": [],
   "source": [
    "n_inds = len(f.attrs['actualids'])\n",
    "\n",
    "frame = (group['frame'].value).reshape((1,-1))\n",
    "pos_x = (group['xcentroid'].value).reshape((1,-1))\n",
    "pos_y = (group['ycentroid'].value).reshape((1,-1))\n",
    "dir_x = (group['heading_x'].value).reshape((1,-1))\n",
    "dir_y = (group['heading_y'].value).reshape((1,-1))\n",
    "identity = np.repeat(f.attrs['actualids'], frame.shape[1] / n_inds).reshape((1,-1))"
   ]
  },
  {
   "cell_type": "code",
   "execution_count": 6,
   "metadata": {
    "collapsed": true,
    "deletable": true,
    "editable": true
   },
   "outputs": [],
   "source": [
    "data = [frame, identity, pos_x, pos_y, dir_x, dir_y]\n",
    "data = np.array(data).T.reshape((dir_x.shape[1], len(data)))\n",
    "data = pd.DataFrame(data, columns=['frame', 'ids', 'pos_x', 'pos_y', 'dir_x', 'dir_y'])"
   ]
  },
  {
   "cell_type": "code",
   "execution_count": 7,
   "metadata": {
    "collapsed": true,
    "deletable": true,
    "editable": true
   },
   "outputs": [],
   "source": [
    "f.close()"
   ]
  },
  {
   "cell_type": "code",
   "execution_count": 8,
   "metadata": {
    "collapsed": false,
    "deletable": true,
    "editable": true
   },
   "outputs": [],
   "source": [
    "data = data[(data['frame'] < 45927) & (data['frame'] > 61)]\n",
    "data['pos_x'] = data['pos_x']*3008/120\n",
    "data['pos_y'] = data['pos_y']*3008/120"
   ]
  },
  {
   "cell_type": "code",
   "execution_count": 21,
   "metadata": {
    "collapsed": false,
    "deletable": true,
    "editable": true
   },
   "outputs": [
    {
     "ename": "AttributeError",
     "evalue": "'list' object has no attribute 'get_position'",
     "output_type": "error",
     "traceback": [
      "\u001b[0;31m---------------------------------------------------------------------------\u001b[0m",
      "\u001b[0;31mAttributeError\u001b[0m                            Traceback (most recent call last)",
      "\u001b[0;32m<ipython-input-21-3052720a45c7>\u001b[0m in \u001b[0;36m<module>\u001b[0;34m()\u001b[0m\n\u001b[1;32m     28\u001b[0m         \u001b[0mplt\u001b[0m\u001b[0;34m.\u001b[0m\u001b[0mxlim\u001b[0m\u001b[0;34m(\u001b[0m\u001b[0;36m0\u001b[0m\u001b[0;34m,\u001b[0m\u001b[0;36m3008\u001b[0m\u001b[0;34m)\u001b[0m\u001b[0;34m\u001b[0m\u001b[0m\n\u001b[1;32m     29\u001b[0m         \u001b[0mplt\u001b[0m\u001b[0;34m.\u001b[0m\u001b[0mylim\u001b[0m\u001b[0;34m(\u001b[0m\u001b[0;36m0\u001b[0m\u001b[0;34m,\u001b[0m\u001b[0;36m3008\u001b[0m\u001b[0;34m)\u001b[0m\u001b[0;34m\u001b[0m\u001b[0m\n\u001b[0;32m---> 30\u001b[0;31m         \u001b[0mpos\u001b[0m \u001b[0;34m=\u001b[0m \u001b[0max\u001b[0m\u001b[0;34m.\u001b[0m\u001b[0mget_position\u001b[0m\u001b[0;34m(\u001b[0m\u001b[0;34m)\u001b[0m\u001b[0;34m\u001b[0m\u001b[0m\n\u001b[0m\u001b[1;32m     31\u001b[0m         \u001b[0max\u001b[0m\u001b[0;34m.\u001b[0m\u001b[0mset_position\u001b[0m\u001b[0;34m(\u001b[0m\u001b[0mpos\u001b[0m\u001b[0;34m)\u001b[0m\u001b[0;34m\u001b[0m\u001b[0m\n\u001b[1;32m     32\u001b[0m         \u001b[0mplt\u001b[0m\u001b[0;34m.\u001b[0m\u001b[0maxis\u001b[0m\u001b[0;34m(\u001b[0m\u001b[0;34m'off'\u001b[0m\u001b[0;34m)\u001b[0m\u001b[0;34m\u001b[0m\u001b[0m\n",
      "\u001b[0;31mAttributeError\u001b[0m: 'list' object has no attribute 'get_position'"
     ]
    }
   ],
   "source": [
    "for f in np.unique(data['frame']):\n",
    "    df = data[data['frame'] == f]\n",
    "    name = int(f)\n",
    "    if name < 100:\n",
    "        name = '000' + str(name)\n",
    "    elif name < 1000:\n",
    "        name = '00' + str(name)\n",
    "    elif name < 10000:\n",
    "        name = '0' + str(name)\n",
    "        \n",
    "    filepath = '/Users/viveksridhar/Documents/Code/cuda/DirectionalCorrelation/Data/Output/dynamic_network/network' + name + '.net'\n",
    "    if is_non_zero_file(filepath):\n",
    "        net = pd.read_table(filepath, header=None)\n",
    "        net = net.rename(index=str, columns={0:\"id1\", 1:\"id2\", 2:\"weight\", 3:\"tau\"})\n",
    "    \n",
    "        # Plot with palette\n",
    "        sns.lmplot( x='pos_x', y='pos_y', data=df, fit_reg=False, hue='ids', legend=False, palette=\"Dark2\", scatter_kws={\"s\": 100})\n",
    "        for i in range(0,len(net)):\n",
    "            x1 = np.float(df[net['id1'][i] == df['ids']]['pos_x'])\n",
    "            y1 = np.float(df[net['id1'][i] == df['ids']]['pos_y'])\n",
    "            x2 = np.float(df[net['id2'][i] == df['ids']]['pos_x'])\n",
    "            y2 = np.float(df[net['id2'][i] == df['ids']]['pos_y'])\n",
    "            if net['tau'][i] > 0:\n",
    "                plt.arrow(x1, y1, x2-x1, y2-y1, linewidth=net['weight'][i], length_includes_head=True, head_width=50, alpha=0.5, color='b')\n",
    "            elif net['tau'][i] < 0:\n",
    "                plt.arrow(x2, y2, x1-x2, y1-y2, linewidth=net['weight'][i], length_includes_head=True, head_width=50, alpha=0.5, color='b')\n",
    "        plt.xlim(0,3008)\n",
    "        plt.ylim(0,3008)\n",
    "        plt.axis('off')\n",
    "        plt.savefig('/Users/viveksridhar/Documents/Code/Python/combined_tracks_analysis/dynamic_network_plots/' + name + '.png', dpi=200)\n",
    "        plt.close()"
   ]
  },
  {
   "cell_type": "code",
   "execution_count": null,
   "metadata": {
    "collapsed": true,
    "deletable": true,
    "editable": true
   },
   "outputs": [],
   "source": []
  }
 ],
 "metadata": {
  "kernelspec": {
   "display_name": "Python 3",
   "language": "python",
   "name": "python3"
  },
  "language_info": {
   "codemirror_mode": {
    "name": "ipython",
    "version": 3
   },
   "file_extension": ".py",
   "mimetype": "text/x-python",
   "name": "python",
   "nbconvert_exporter": "python",
   "pygments_lexer": "ipython3",
   "version": "3.6.4"
  }
 },
 "nbformat": 4,
 "nbformat_minor": 2
}
